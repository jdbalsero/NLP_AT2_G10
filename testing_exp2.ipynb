{
 "cells": [
  {
   "cell_type": "code",
   "execution_count": 2,
   "id": "4558b2aa",
   "metadata": {},
   "outputs": [
    {
     "data": {
      "text/html": [
       "<div>\n",
       "<style scoped>\n",
       "    .dataframe tbody tr th:only-of-type {\n",
       "        vertical-align: middle;\n",
       "    }\n",
       "\n",
       "    .dataframe tbody tr th {\n",
       "        vertical-align: top;\n",
       "    }\n",
       "\n",
       "    .dataframe thead th {\n",
       "        text-align: right;\n",
       "    }\n",
       "</style>\n",
       "<table border=\"1\" class=\"dataframe\">\n",
       "  <thead>\n",
       "    <tr style=\"text-align: right;\">\n",
       "      <th></th>\n",
       "      <th>questions</th>\n",
       "      <th>answers</th>\n",
       "      <th>answers (no context)</th>\n",
       "      <th>embeddings - answers</th>\n",
       "      <th>embeddings - answers (no context)</th>\n",
       "      <th>distance - (truth vs no truth)</th>\n",
       "    </tr>\n",
       "  </thead>\n",
       "  <tbody>\n",
       "    <tr>\n",
       "      <th>0</th>\n",
       "      <td>What does the API Compendium detail?</td>\n",
       "      <td>The API Compendium details methodologies for t...</td>\n",
       "      <td>The API Compendium details a set of standardiz...</td>\n",
       "      <td>[0.005325362551957369, 0.002972154878079891, 0...</td>\n",
       "      <td>[-0.007272238843142986, 0.0042181480675935745,...</td>\n",
       "      <td>0.664349</td>\n",
       "    </tr>\n",
       "    <tr>\n",
       "      <th>1</th>\n",
       "      <td>What greenhouse gasses are focused on in the A...</td>\n",
       "      <td>The greenhouse gasses focused on in the API Co...</td>\n",
       "      <td>The API Compendium focuses on greenhouse gases...</td>\n",
       "      <td>[0.028264878317713737, -0.010375259444117546, ...</td>\n",
       "      <td>[0.0396428145468235, 0.057764310389757156, 0.0...</td>\n",
       "      <td>0.676672</td>\n",
       "    </tr>\n",
       "    <tr>\n",
       "      <th>2</th>\n",
       "      <td>What is the main focus of the ESRS E1 standard?</td>\n",
       "      <td>The main focus of the ESRS E1 standard is Clim...</td>\n",
       "      <td>The main focus of the ESRS E1 standard is **cl...</td>\n",
       "      <td>[0.024370644241571426, 0.01113931555300951, 0....</td>\n",
       "      <td>[0.11005250364542007, -0.018268045037984848, -...</td>\n",
       "      <td>0.850794</td>\n",
       "    </tr>\n",
       "    <tr>\n",
       "      <th>3</th>\n",
       "      <td>What is the effective date of the final rule f...</td>\n",
       "      <td>The final rule is effective January 17, 2025.</td>\n",
       "      <td>The effective date of the final rule for the W...</td>\n",
       "      <td>[-0.01998976059257984, 0.06043853238224983, 0....</td>\n",
       "      <td>[0.05101114884018898, 0.09315137565135956, 0.0...</td>\n",
       "      <td>0.524422</td>\n",
       "    </tr>\n",
       "    <tr>\n",
       "      <th>4</th>\n",
       "      <td>What Act requires the EPA to impose and collec...</td>\n",
       "      <td>The Inflation Reduction Act (IRA) requires the...</td>\n",
       "      <td>The **Inflation Reduction Act of 2022** requir...</td>\n",
       "      <td>[0.048313163220882416, 0.06350891292095184, 0....</td>\n",
       "      <td>[0.01294984482228756, 0.1074836477637291, 0.09...</td>\n",
       "      <td>0.833216</td>\n",
       "    </tr>\n",
       "  </tbody>\n",
       "</table>\n",
       "</div>"
      ],
      "text/plain": [
       "                                           questions  \\\n",
       "0               What does the API Compendium detail?   \n",
       "1  What greenhouse gasses are focused on in the A...   \n",
       "2    What is the main focus of the ESRS E1 standard?   \n",
       "3  What is the effective date of the final rule f...   \n",
       "4  What Act requires the EPA to impose and collec...   \n",
       "\n",
       "                                             answers  \\\n",
       "0  The API Compendium details methodologies for t...   \n",
       "1  The greenhouse gasses focused on in the API Co...   \n",
       "2  The main focus of the ESRS E1 standard is Clim...   \n",
       "3      The final rule is effective January 17, 2025.   \n",
       "4  The Inflation Reduction Act (IRA) requires the...   \n",
       "\n",
       "                                answers (no context)  \\\n",
       "0  The API Compendium details a set of standardiz...   \n",
       "1  The API Compendium focuses on greenhouse gases...   \n",
       "2  The main focus of the ESRS E1 standard is **cl...   \n",
       "3  The effective date of the final rule for the W...   \n",
       "4  The **Inflation Reduction Act of 2022** requir...   \n",
       "\n",
       "                                embeddings - answers  \\\n",
       "0  [0.005325362551957369, 0.002972154878079891, 0...   \n",
       "1  [0.028264878317713737, -0.010375259444117546, ...   \n",
       "2  [0.024370644241571426, 0.01113931555300951, 0....   \n",
       "3  [-0.01998976059257984, 0.06043853238224983, 0....   \n",
       "4  [0.048313163220882416, 0.06350891292095184, 0....   \n",
       "\n",
       "                   embeddings - answers (no context)  \\\n",
       "0  [-0.007272238843142986, 0.0042181480675935745,...   \n",
       "1  [0.0396428145468235, 0.057764310389757156, 0.0...   \n",
       "2  [0.11005250364542007, -0.018268045037984848, -...   \n",
       "3  [0.05101114884018898, 0.09315137565135956, 0.0...   \n",
       "4  [0.01294984482228756, 0.1074836477637291, 0.09...   \n",
       "\n",
       "   distance - (truth vs no truth)  \n",
       "0                        0.664349  \n",
       "1                        0.676672  \n",
       "2                        0.850794  \n",
       "3                        0.524422  \n",
       "4                        0.833216  "
      ]
     },
     "execution_count": 2,
     "metadata": {},
     "output_type": "execute_result"
    }
   ],
   "source": [
    "import pandas as pd\n",
    "questionaire = pd.read_csv('../testing/questionaire (answers with embeddings and distance).csv')\n",
    "questionaire.head()\n"
   ]
  },
  {
   "cell_type": "code",
   "execution_count": 27,
   "id": "e81bb7cc",
   "metadata": {},
   "outputs": [],
   "source": [
    "from  backend.ghg_assistant import GHGAssistant\n",
    "from backend.rag_process import rag_process\n",
    "from backend.embedding_generation import Embedding_Generation\n"
   ]
  },
  {
   "cell_type": "code",
   "execution_count": 28,
   "id": "37f755df",
   "metadata": {},
   "outputs": [
    {
     "ename": "FileNotFoundError",
     "evalue": "[Errno 2] No such file or directory: '/Users/user/Documents/GitHub/UTS/Applied_NLP/NLP_AT2_G10/src/src/data'",
     "output_type": "error",
     "traceback": [
      "\u001b[31m---------------------------------------------------------------------------\u001b[39m",
      "\u001b[31mFileNotFoundError\u001b[39m                         Traceback (most recent call last)",
      "\u001b[36mCell\u001b[39m\u001b[36m \u001b[39m\u001b[32mIn[28]\u001b[39m\u001b[32m, line 8\u001b[39m\n\u001b[32m      5\u001b[39m rag_process = rag_process()\n\u001b[32m      6\u001b[39m ghg_assistant = GHGAssistant()\n\u001b[32m----> \u001b[39m\u001b[32m8\u001b[39m \u001b[43mrag_process\u001b[49m\u001b[43m.\u001b[49m\u001b[43mrun_embedding_process\u001b[49m\u001b[43m(\u001b[49m\u001b[43m)\u001b[49m\n\u001b[32m      9\u001b[39m sample_chunks,sample_meta = rag_process.query_documents(sample_question)\n",
      "\u001b[36mFile \u001b[39m\u001b[32m~/Documents/GitHub/UTS/Applied_NLP/NLP_AT2_G10/src/backend/rag_process.py:15\u001b[39m, in \u001b[36mrag_process.run_embedding_process\u001b[39m\u001b[34m(self)\u001b[39m\n\u001b[32m     13\u001b[39m \u001b[38;5;28;01mdef\u001b[39;00m\u001b[38;5;250m \u001b[39m\u001b[34mrun_embedding_process\u001b[39m(\u001b[38;5;28mself\u001b[39m):\n\u001b[32m---> \u001b[39m\u001b[32m15\u001b[39m     documents = \u001b[38;5;28;43mself\u001b[39;49m\u001b[43m.\u001b[49m\u001b[43membedding_class\u001b[49m\u001b[43m.\u001b[49m\u001b[43mread_documents\u001b[49m\u001b[43m(\u001b[49m\u001b[43m)\u001b[49m\n\u001b[32m     16\u001b[39m     chunks = \u001b[38;5;28mself\u001b[39m.embedding_class.chunk_generation(documents)\n\u001b[32m     17\u001b[39m     generation = \u001b[38;5;28mself\u001b[39m.embedding_class.generate_embeddings(chunked_documents=chunks)\n",
      "\u001b[36mFile \u001b[39m\u001b[32m~/Documents/GitHub/UTS/Applied_NLP/NLP_AT2_G10/src/backend/embedding_generation.py:40\u001b[39m, in \u001b[36mEmbedding_Generation.read_documents\u001b[39m\u001b[34m(self)\u001b[39m\n\u001b[32m     38\u001b[39m current_wd = os.getcwd()\n\u001b[32m     39\u001b[39m data_path = os.path.join(current_wd, \u001b[33m\"\u001b[39m\u001b[33msrc/data\u001b[39m\u001b[33m\"\u001b[39m)\n\u001b[32m---> \u001b[39m\u001b[32m40\u001b[39m raw_documents = \u001b[43mos\u001b[49m\u001b[43m.\u001b[49m\u001b[43mlistdir\u001b[49m\u001b[43m(\u001b[49m\u001b[43mdata_path\u001b[49m\u001b[43m)\u001b[49m\n\u001b[32m     42\u001b[39m documents = []\n\u001b[32m     44\u001b[39m \u001b[38;5;28;01mfor\u001b[39;00m file_name \u001b[38;5;129;01min\u001b[39;00m raw_documents:\n",
      "\u001b[31mFileNotFoundError\u001b[39m: [Errno 2] No such file or directory: '/Users/user/Documents/GitHub/UTS/Applied_NLP/NLP_AT2_G10/src/src/data'"
     ]
    }
   ],
   "source": [
    "sample_question = questionaire.loc[100,'questions']\n",
    "\n",
    "# lets init the rag_process \n",
    "\n",
    "rag_process = rag_process()\n",
    "ghg_assistant = GHGAssistant()\n",
    "\n",
    "rag_process.run_embedding_process()\n",
    "sample_chunks,sample_meta = rag_process.query_documents(sample_question)\n",
    "\n"
   ]
  },
  {
   "cell_type": "code",
   "execution_count": 17,
   "id": "4e7c34a1",
   "metadata": {},
   "outputs": [
    {
     "data": {
      "text/plain": [
       "[]"
      ]
     },
     "execution_count": 17,
     "metadata": {},
     "output_type": "execute_result"
    }
   ],
   "source": [
    "type(sample_chunks)\n",
    "sample_chunks"
   ]
  },
  {
   "cell_type": "code",
   "execution_count": null,
   "id": "703b8b11",
   "metadata": {},
   "outputs": [],
   "source": []
  }
 ],
 "metadata": {
  "kernelspec": {
   "display_name": ".venv",
   "language": "python",
   "name": "python3"
  },
  "language_info": {
   "codemirror_mode": {
    "name": "ipython",
    "version": 3
   },
   "file_extension": ".py",
   "mimetype": "text/x-python",
   "name": "python",
   "nbconvert_exporter": "python",
   "pygments_lexer": "ipython3",
   "version": "3.11.6"
  }
 },
 "nbformat": 4,
 "nbformat_minor": 5
}
