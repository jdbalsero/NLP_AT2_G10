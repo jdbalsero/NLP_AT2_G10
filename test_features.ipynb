{
 "cells": [
  {
   "cell_type": "markdown",
   "metadata": {},
   "source": [
    "### creating the memory features"
   ]
  },
  {
   "cell_type": "code",
   "execution_count": null,
   "metadata": {},
   "outputs": [
    {
     "name": "stdout",
     "output_type": "stream",
     "text": [
      "{\n",
      "    \"response\": \"To sue your employer, you should first consult with a legal professional to discuss your specific situation and determine the best course of action. In Australia, the Fair Work Commission and various state-based anti-discrimination and workers' compensation tribunals handle employment disputes. Ensure you understand your rights under the Fair Work Act 2009 and any other relevant legislation. Gathering evidence and following the proper procedures for filing a claim is crucial.\",\n",
      "    \"category\": \"legal\"\n",
      "}\n"
     ]
    }
   ],
   "source": [
    "from groq import Client\n",
    "from os import getenv\n",
    "import json\n",
    "# initiating the class to access the model\n",
    "client = Client(\n",
    "    api_key = getenv('GROQ_API_KEY')\n",
    ")\n",
    "# initiating the chat history\n",
    "# this prompt is missing context\n",
    "SYSTEM_PROMPT_CONFIG = \"\"\"You are a digital consultant specializing in Australia's evolving greenhouse gas (GHG) emission regulations.\n",
    "Your task is to help companies navigate the complexities of compliance, accurate emission calculations, and industry-specific scope definitions.\n",
    "You also need to classify whether the user's question falls into the topics: ['legal', 'financial', 'others'] where 'others' is any topic that is\n",
    "neither legal of financial.\n",
    "Please only return JSON object the following structure:\n",
    "{\n",
    "    \"response\" : your answer to the user,\n",
    "    \"category\" : one of elements of ['legal', 'financial', 'others']\n",
    "}\n",
    "\"\"\"\n",
    "# this is how to store the memory of the chat\n",
    "conversation = [\n",
    "    {\n",
    "        'role' : 'system',\n",
    "        'content' : SYSTEM_PROMPT_CONFIG\n",
    "    }\n",
    "]\n",
    "# sample user question\n",
    "user_prompt = 'how can i sue my employer?'\n",
    "# add memory to the conversation\n",
    "conversation.append(\n",
    "    {\n",
    "        'role' : 'user',\n",
    "        'content' : user_prompt\n",
    "    }\n",
    ")\n",
    "# generating the response\n",
    "response = client.chat.completions.create(\n",
    "    messages = conversation,\n",
    "    model = 'llama-3.3-70b-versatile',\n",
    "    # lower values of temperature are related to less randomness\n",
    "    temperature = 0.8,\n",
    "    # maximun number of tokens to generate\n",
    "    max_completion_tokens = 600,\n",
    "    # A stop sequence is a predefined or user-specified text string that\n",
    "    # signals an AI to stop generating content, ensuring its responses\n",
    "    # remain focused and concise. Examples include punctuation marks and\n",
    "    # markers like \"[end]\".\n",
    "    stop = None,\n",
    "    # If set, partial message deltas will be sent.\n",
    "    stream = False\n",
    ")\n",
    "ai_ouput = response.choices[0].message.content\n",
    "print(ai_ouput)"
   ]
  },
  {
   "cell_type": "code",
   "execution_count": 10,
   "metadata": {},
   "outputs": [
    {
     "name": "stdout",
     "output_type": "stream",
     "text": [
      "{'role': 'system', 'content': 'You are a digital consultant specializing in Australia\\'s evolving greenhouse gas (GHG) emission regulations.\\nYour task is to help companies navigate the complexities of compliance, accurate emission calculations, and industry-specific scope definitions.\\nYou also need to classify whether the user\\'s question falls into the topics: [\\'legal\\', \\'financial\\', \\'others\\'] where \\'others\\' is any topic that is\\nneither legal of financial.\\nPlease only return JSON object the following structure:\\n{\\n    \"response\" : your answer to the user,\\n    \"category\" : one of elements of [\\'legal\\', \\'financial\\', \\'others\\']\\n}\\n'}\n",
      "{'role': 'user', 'content': 'how can i sue my employer?'}\n",
      "{'role': 'assistant', 'content': \"To sue your employer, you should first consult with a legal professional to discuss your specific situation and determine the best course of action. In Australia, the Fair Work Commission and various state-based anti-discrimination and workers' compensation tribunals handle employment disputes. Ensure you understand your rights under the Fair Work Act 2009 and any other relevant legislation. Gathering evidence and following the proper procedures for filing a claim is crucial.\\n\\n**Disclaimer:** Be mindful that this is an AI assistant. Please consult with a professional before proceeding.\"}\n"
     ]
    }
   ],
   "source": [
    "try:\n",
    "    json_format_ai_output = json.loads(ai_ouput)\n",
    "    answer = json_format_ai_output.get('response', 'It was not possible to process that prompt')\n",
    "    category = json_format_ai_output.get('category', 'general')\n",
    "except json.JSONDecodeError:\n",
    "    answer, category = ai_ouput, 'general'\n",
    "    \n",
    "DISCLAIMER_MESSAGE = (\n",
    "    \"\\n\\n**Disclaimer:** Be mindful that this is an AI assistant. \"\n",
    "    \"Please consult with a professional before proceeding.\"\n",
    ")\n",
    "if category != 'general':\n",
    "    answer += DISCLAIMER_MESSAGE\n",
    "\n",
    "# update chat history\n",
    "conversation.append(\n",
    "    {\n",
    "        'role' : 'assistant',\n",
    "        'content' : answer\n",
    "    }\n",
    ")\n",
    "for element in conversation:\n",
    "    print(element)"
   ]
  }
 ],
 "metadata": {
  "kernelspec": {
   "display_name": "my_env",
   "language": "python",
   "name": "python3"
  },
  "language_info": {
   "codemirror_mode": {
    "name": "ipython",
    "version": 3
   },
   "file_extension": ".py",
   "mimetype": "text/x-python",
   "name": "python",
   "nbconvert_exporter": "python",
   "pygments_lexer": "ipython3",
   "version": "3.9.6"
  }
 },
 "nbformat": 4,
 "nbformat_minor": 2
}
