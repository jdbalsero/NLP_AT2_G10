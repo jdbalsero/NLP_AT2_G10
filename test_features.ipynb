{
 "cells": [
  {
   "cell_type": "markdown",
   "metadata": {},
   "source": [
    "### creating the memory features"
   ]
  },
  {
   "cell_type": "markdown",
   "metadata": {},
   "source": [
    "### defining the class of the assistant"
   ]
  },
  {
   "cell_type": "code",
   "execution_count": null,
   "metadata": {},
   "outputs": [],
   "source": [
    "# class ghg_assistant\n",
    "# atributes: model parameteres (model, temperature, max completition tokens, system_config)\n",
    "# methods:\n",
    "# - generates response (user_prompt, context)\n",
    "# - evaluate user prompt (if the question has any relation to the topic)\n",
    "# - is a valid question (evaluate whether the question is related to GHG topic) TBD\n",
    "from os import getenv\n",
    "from json import loads\n",
    "from json import JSONDecodeError\n",
    "from groq import Client\n",
    "\n",
    "class GHGAssistant():\n",
    "    def __init__(\n",
    "        self,\n",
    "        system_config : str, # the definition the of task\n",
    "        disclaimer : str, # the disclaimer for outputs\n",
    "        model : str = 'llama-3.3-70b-versatile',\n",
    "        temperature : float = 0.5,\n",
    "        max_completion_tokens : int = 600,\n",
    "    ):\n",
    "        self.system_config, self.model, self.temp, self.max_tokens = system_config, model, temperature, max_completion_tokens\n",
    "        self.disclaimer = disclaimer\n",
    "        self.conversation = [] # placeholder for conversation\n",
    "    def generate_response(\n",
    "        self,\n",
    "        user_prompt : str,\n",
    "        context : str = None\n",
    "    ):\n",
    "        client = Client(\n",
    "            api_key = getenv('GROQ_API_KEY')\n",
    "        )\n",
    "        # initialize the conversation\n",
    "        self.conversation.append(\n",
    "            # configuration of the response\n",
    "            {\n",
    "                'role' : 'system',\n",
    "                'content' : self.system_config + f\"\\n\\nuse the following context to answer the users question: '{context}'\"\n",
    "            }\n",
    "        )\n",
    "        self.conversation.append(\n",
    "            # adding the query from the user\n",
    "            {\n",
    "                'role' : 'user',\n",
    "                'content' : user_prompt\n",
    "            }\n",
    "        )\n",
    "        # generating the response\n",
    "        response = client.chat.completions.create(\n",
    "            messages = self.conversation,\n",
    "            model = self.model,\n",
    "            temperature = self.temp,\n",
    "            max_completion_tokens = self.max_tokens\n",
    "        )\n",
    "        # retreiving the output\n",
    "        ai_ouput = response.choices[0].message.content\n",
    "        # this section is based on the assumption that the system config asks for a json file\n",
    "        try:\n",
    "            json_format_ai_output = loads(ai_ouput)\n",
    "            answer = json_format_ai_output.get('response', 'It was not possible to process that prompt')\n",
    "            category = json_format_ai_output.get('category', 'general')\n",
    "        except JSONDecodeError: # if the model output cannot be converted into \n",
    "            answer, category = ai_ouput, 'general'\n",
    "        # in case the user asks for a sensitive topic\n",
    "        if category in ['legal', 'financial']:\n",
    "            answer += self.disclaimer\n",
    "        # update conversation\n",
    "        self.conversation.append(\n",
    "            {\n",
    "                'role' : 'assistant',\n",
    "                'content' : answer\n",
    "            }\n",
    "        )\n",
    "        return answer\n",
    "    \n",
    "# this is a key parameter for the class\n",
    "SYSTEM_PROMPT_CONFIG = \"\"\"You are a helpful AI assistant that provides your answers in as a JSON object following the structure:\n",
    "{\n",
    "    \"response\" : your answer to the user,\n",
    "    \"category\" : your classification of the user prompt from the following list: ['legal', 'financial', 'others']\n",
    "}\n",
    "\"\"\"\n",
    "# this can vary depending on the topic\n",
    "DISCLAIMER_MESSAGE = (\n",
    "    \"\\n\\n**Disclaimer:** Be mindful that this is an AI assistant. \"\n",
    "    \"Please consult with a professional before proceeding.\"\n",
    ")\n",
    "test_assistant = GHGAssistant(\n",
    "    system_config = SYSTEM_PROMPT_CONFIG,\n",
    "    disclaimer = DISCLAIMER_MESSAGE\n",
    ")"
   ]
  },
  {
   "cell_type": "markdown",
   "metadata": {},
   "source": [
    "test how responses differ with and without context"
   ]
  },
  {
   "cell_type": "code",
   "execution_count": 28,
   "metadata": {},
   "outputs": [
    {
     "data": {
      "text/plain": [
       "'The most popular player from Colombia currently is James Rodríguez. He is a Colombian professional footballer who plays as an attacking midfielder for Al-Rayyan and the Colombia national team. However, other notable players like Radamel Falcao and Juan Cuadrado are also well-known and popular.'"
      ]
     },
     "execution_count": 28,
     "metadata": {},
     "output_type": "execute_result"
    }
   ],
   "source": [
    "no_context_response = test_assistant.generate_response(\n",
    "    user_prompt = 'what is the most popular player from colombia currently?'\n",
    ")\n",
    "no_context_response"
   ]
  },
  {
   "cell_type": "code",
   "execution_count": 29,
   "metadata": {},
   "outputs": [
    {
     "data": {
      "text/plain": [
       "'The most popular player from Colombia currently is James Rodríguez, but Luis Diaz has been gaining popularity recently due to his impressive performances, including scoring two goals in a critical match for the Colombia national team.'"
      ]
     },
     "execution_count": 29,
     "metadata": {},
     "output_type": "execute_result"
    }
   ],
   "source": [
    "context_response = test_assistant.generate_response(\n",
    "    user_prompt = 'what is the most popular player from colombia currently?',\n",
    "    context = 'In the lastest match between Colombia and Brazil, Luis Diaz score two goals and secure the win for the caferos in a critical stage for the world cup'\n",
    ")\n",
    "context_response"
   ]
  },
  {
   "cell_type": "markdown",
   "metadata": {},
   "source": [
    "Effectively, once the context is added the responses vary accordingly"
   ]
  },
  {
   "cell_type": "code",
   "execution_count": 30,
   "metadata": {},
   "outputs": [
    {
     "data": {
      "text/plain": [
       "[{'role': 'system',\n",
       "  'content': 'You are a helpful AI assistant that provides your answers in as a JSON object following the structure:\\n{\\n    \"response\" : your answer to the user,\\n    \"category\" : your classification of the user prompt from the following list: [\\'legal\\', \\'financial\\', \\'others\\']\\n}\\n\\n\\nuse the following context to answer the users question: \\'None\\''},\n",
       " {'role': 'user',\n",
       "  'content': 'what is the most popular player from colombia currently?'},\n",
       " {'role': 'assistant',\n",
       "  'content': 'The most popular player from Colombia currently is James Rodríguez. He is a Colombian professional footballer who plays as an attacking midfielder for Al-Rayyan and the Colombia national team. However, other notable players like Radamel Falcao and Juan Cuadrado are also well-known and popular.'},\n",
       " {'role': 'system',\n",
       "  'content': 'You are a helpful AI assistant that provides your answers in as a JSON object following the structure:\\n{\\n    \"response\" : your answer to the user,\\n    \"category\" : your classification of the user prompt from the following list: [\\'legal\\', \\'financial\\', \\'others\\']\\n}\\n\\n\\nuse the following context to answer the users question: \\'In the lastest match between Colombia and Brazil, Luis Diaz score two goals and secure the win for the caferos in a critical stage for the world cup\\''},\n",
       " {'role': 'user',\n",
       "  'content': 'what is the most popular player from colombia currently?'},\n",
       " {'role': 'assistant',\n",
       "  'content': 'The most popular player from Colombia currently is James Rodríguez, but Luis Diaz has been gaining popularity recently due to his impressive performances, including scoring two goals in a critical match for the Colombia national team.'}]"
      ]
     },
     "execution_count": 30,
     "metadata": {},
     "output_type": "execute_result"
    }
   ],
   "source": [
    "test_assistant.conversation"
   ]
  },
  {
   "cell_type": "markdown",
   "metadata": {},
   "source": [
    "also, the conversation is stored as an atribute of the class"
   ]
  },
  {
   "cell_type": "code",
   "execution_count": 31,
   "metadata": {},
   "outputs": [
    {
     "name": "stdout",
     "output_type": "stream",
     "text": [
      "To sue your doctor for malpractice during an operation, you'll need to gather evidence and follow these steps: 1) Consult with a medical malpractice attorney, 2) Obtain your medical records, 3) Determine the extent of the damage, 4) File a complaint with the state medical board, and 5) File a lawsuit. It's essential to act quickly, as the statute of limitations for medical malpractice varies by state.\n",
      "\n",
      "**Disclaimer:** Be mindful that this is an AI assistant. Please consult with a professional before proceeding."
     ]
    }
   ],
   "source": [
    "legal_response = test_assistant.generate_response(\n",
    "    user_prompt = 'how can i sue my doctor for malpractice during an operation?'\n",
    ")\n",
    "print(legal_response, end = \"\")"
   ]
  },
  {
   "cell_type": "code",
   "execution_count": 32,
   "metadata": {},
   "outputs": [
    {
     "data": {
      "text/plain": [
       "[{'role': 'system',\n",
       "  'content': 'You are a helpful AI assistant that provides your answers in as a JSON object following the structure:\\n{\\n    \"response\" : your answer to the user,\\n    \"category\" : your classification of the user prompt from the following list: [\\'legal\\', \\'financial\\', \\'others\\']\\n}\\n\\n\\nuse the following context to answer the users question: \\'None\\''},\n",
       " {'role': 'user',\n",
       "  'content': 'what is the most popular player from colombia currently?'},\n",
       " {'role': 'assistant',\n",
       "  'content': 'The most popular player from Colombia currently is James Rodríguez. He is a Colombian professional footballer who plays as an attacking midfielder for Al-Rayyan and the Colombia national team. However, other notable players like Radamel Falcao and Juan Cuadrado are also well-known and popular.'},\n",
       " {'role': 'system',\n",
       "  'content': 'You are a helpful AI assistant that provides your answers in as a JSON object following the structure:\\n{\\n    \"response\" : your answer to the user,\\n    \"category\" : your classification of the user prompt from the following list: [\\'legal\\', \\'financial\\', \\'others\\']\\n}\\n\\n\\nuse the following context to answer the users question: \\'In the lastest match between Colombia and Brazil, Luis Diaz score two goals and secure the win for the caferos in a critical stage for the world cup\\''},\n",
       " {'role': 'user',\n",
       "  'content': 'what is the most popular player from colombia currently?'},\n",
       " {'role': 'assistant',\n",
       "  'content': 'The most popular player from Colombia currently is James Rodríguez, but Luis Diaz has been gaining popularity recently due to his impressive performances, including scoring two goals in a critical match for the Colombia national team.'},\n",
       " {'role': 'system',\n",
       "  'content': 'You are a helpful AI assistant that provides your answers in as a JSON object following the structure:\\n{\\n    \"response\" : your answer to the user,\\n    \"category\" : your classification of the user prompt from the following list: [\\'legal\\', \\'financial\\', \\'others\\']\\n}\\n\\n\\nuse the following context to answer the users question: \\'None\\''},\n",
       " {'role': 'user',\n",
       "  'content': 'how can i sue my doctor for malpractice during an operation?'},\n",
       " {'role': 'assistant',\n",
       "  'content': \"To sue your doctor for malpractice during an operation, you'll need to gather evidence and follow these steps: 1) Consult with a medical malpractice attorney, 2) Obtain your medical records, 3) Determine the extent of the damage, 4) File a complaint with the state medical board, and 5) File a lawsuit. It's essential to act quickly, as the statute of limitations for medical malpractice varies by state.\\n\\n**Disclaimer:** Be mindful that this is an AI assistant. Please consult with a professional before proceeding.\"}]"
      ]
     },
     "execution_count": 32,
     "metadata": {},
     "output_type": "execute_result"
    }
   ],
   "source": [
    "test_assistant.conversation"
   ]
  }
 ],
 "metadata": {
  "kernelspec": {
   "display_name": "my_env",
   "language": "python",
   "name": "python3"
  },
  "language_info": {
   "codemirror_mode": {
    "name": "ipython",
    "version": 3
   },
   "file_extension": ".py",
   "mimetype": "text/x-python",
   "name": "python",
   "nbconvert_exporter": "python",
   "pygments_lexer": "ipython3",
   "version": "3.9.6"
  }
 },
 "nbformat": 4,
 "nbformat_minor": 2
}
