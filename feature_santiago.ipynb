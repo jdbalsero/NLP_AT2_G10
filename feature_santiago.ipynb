{
 "cells": [
  {
   "cell_type": "markdown",
   "metadata": {},
   "source": [
    "### creating the memory features"
   ]
  },
  {
   "cell_type": "markdown",
   "metadata": {},
   "source": [
    "### defining the class of the assistant"
   ]
  },
  {
   "cell_type": "code",
   "execution_count": null,
   "metadata": {},
   "outputs": [],
   "source": [
    "# class ghg_assistant #\n",
    "# atributes: model parameteres (model, temperature, max completition tokens, system_config)\n",
    "# methods:\n",
    "# - generates response (user_prompt, context)\n",
    "# - evaluate user prompt (if the question has any relation to the topic)\n",
    "# - is a valid question (evaluate whether the question is related to GHG topic) TBD\n",
    "from os import getenv\n",
    "from groq import Client\n",
    "from spacy import load\n",
    "from spacy.matcher import PhraseMatcher\n",
    "\n",
    "class GHGAssistant():\n",
    "    \n",
    "    def __init__(\n",
    "        self,\n",
    "        model : str = 'llama-3.3-70b-versatile',\n",
    "        temperature : float = 0.5,\n",
    "        max_completion_tokens : int = 800,\n",
    "    ):\n",
    "        self.model, self.temp, self.max_tokens = model, temperature, max_completion_tokens\n",
    "        self.disclaimer = (\n",
    "            \"\\n\\n**Disclaimer:** Be mindful that this is an AI assistant. \"\n",
    "            \"Please consult with a professional before proceeding.\"\n",
    "        )\n",
    "        self.system_config = \"\"\"You are a digital consultant specializing in Australia's evolving greenhouse gas (GHG) emission regulations. \n",
    "        Your task is to help companies navigate the complexities of compliance, accurate emission calculations, and industry-specific scope definitions. \n",
    "        Ensure the response is practical, actionable, and aligned with the most recent regulatory updates. \n",
    "        If the answer is not available or unclear, state that you do not know.\n",
    "        \"\"\"\n",
    "        # configuration of the system role\n",
    "        self.conversation = [{\n",
    "                'role' : 'system',\n",
    "                'content' : self.system_config\n",
    "            }]\n",
    "        # define legal entities for detection of delicate enquiries\n",
    "        self.legal_entities = [\"LAW\", \"NORP\", \"ORG\", \"GPE\"]\n",
    "        self.financial_entities = [\"MONEY\", \"ORG\", \"PERCENT\", \"CARDINAL\", \"PRODUCT\"]\n",
    "        # Define additional legal and financial keywords\n",
    "        self.legal_terms = [\"lawsuit\", \"attorney\", \"plaintiff\", \"defendant\", \"malpractice\", \"contract\", \"liability\", \"sue\", \"court\", \"judge\", \"compliance\", \"regulation\", \"policy\", \"statute\"]\n",
    "        self.financial_terms = [\"investment\", \"stocks\", \"bond\", \"revenue\", \"profit\", \"bankruptcy\", \"tax\", \"audit\", \"loan\", \"mortgage\"]\n",
    "    def is_legal_or_financial(\n",
    "        self,\n",
    "        sample_text : str\n",
    "    ) -> bool:\n",
    "        \"\"\"\n",
    "        takes any text and detects if the text is related to finance or law using a pretrained model\n",
    "        \"\"\"\n",
    "        nlp = load(\"en_core_web_md\")\n",
    "        doc = nlp(sample_text)\n",
    "        \n",
    "        matcher = PhraseMatcher(\n",
    "            vocab = nlp.vocab,\n",
    "            attr = 'lower'\n",
    "        )\n",
    "        # add terms to the matcher\n",
    "        pattern = [nlp(term) for term in self.legal_terms + self.financial_terms]\n",
    "        matcher.add('legal_or_financial', pattern)\n",
    "        flag = False\n",
    "        for ent in doc.ents:\n",
    "            if ent.label_ in self.legal_entities or ent.label_ in self.financial_entities:\n",
    "                flag = True\n",
    "        matches = matcher(doc)\n",
    "        if matches:\n",
    "            flag = True\n",
    "        return flag\n",
    "    def generate_response(\n",
    "        self,\n",
    "        user_prompt : str,\n",
    "        context : str = None\n",
    "    ):\n",
    "        client = Client(\n",
    "            api_key = getenv('GROQ_API_KEY')\n",
    "        )\n",
    "        # initialize the conversation\n",
    "        self.conversation.append(\n",
    "            # configuration of the response\n",
    "            {\n",
    "                'role' : 'assistant',\n",
    "                'content' : f\"\\n\\nUse the following context to provide tailored, concise, and accurate guidance.'{context}'\"\n",
    "            }\n",
    "        )\n",
    "        self.conversation.append(\n",
    "            # adding the query from the user\n",
    "            {\n",
    "                'role' : 'user',\n",
    "                'content' : user_prompt\n",
    "            }\n",
    "        )\n",
    "        # generating the response\n",
    "        response = client.chat.completions.create(\n",
    "            messages = self.conversation,\n",
    "            model = self.model,\n",
    "            temperature = self.temp,\n",
    "            max_completion_tokens = self.max_tokens\n",
    "        )\n",
    "        # retreiving the output\n",
    "        ai_ouput = response.choices[0].message.content\n",
    "        # check if the content el related to legal or financial terms\n",
    "        if self.is_legal_or_financial(user_prompt):\n",
    "            ai_ouput += self.disclaimer\n",
    "        # add to the existing memory of the conversation\n",
    "        self.conversation.append(\n",
    "            {\n",
    "                'role' : 'assistant',\n",
    "                'content' : ai_ouput\n",
    "            }\n",
    "        )\n",
    "        return ai_ouput\n",
    "    \n",
    "test_assistant = GHGAssistant()"
   ]
  },
  {
   "cell_type": "markdown",
   "metadata": {},
   "source": [
    "test how responses differ with and without context"
   ]
  },
  {
   "cell_type": "code",
   "execution_count": 12,
   "metadata": {},
   "outputs": [
    {
     "data": {
      "text/plain": [
       "\"I don't have information on the most popular player from Colombia currently. My expertise is in Australia's greenhouse gas emission regulations, and I don't have knowledge on sports or current events. If you have any questions related to GHG emission regulations in Australia, I'd be happy to help.\\n\\n**Disclaimer:** Be mindful that this is an AI assistant. Please consult with a professional before proceeding.\""
      ]
     },
     "execution_count": 12,
     "metadata": {},
     "output_type": "execute_result"
    }
   ],
   "source": [
    "no_context_response = test_assistant.generate_response(\n",
    "    user_prompt = 'what is the most popular player from colombia currently?'\n",
    ")\n",
    "no_context_response"
   ]
  },
  {
   "cell_type": "code",
   "execution_count": 13,
   "metadata": {},
   "outputs": [
    {
     "data": {
      "text/plain": [
       "\"Based on recent performances, Luis Diaz is likely a popular player from Colombia currently, given his impressive display in the latest match against Brazil, where he scored two goals and secured a win for Colombia. However, I don't have real-time information on current events or sports, and popularity can vary depending on individual opinions and sources.\\n\\nIf you're looking for information on greenhouse gas emission regulations in Australia or related topics, I'd be happy to provide guidance and support.\\n\\n**Disclaimer:** Be mindful that this is an AI assistant. Please consult with a professional before proceeding.\""
      ]
     },
     "execution_count": 13,
     "metadata": {},
     "output_type": "execute_result"
    }
   ],
   "source": [
    "context_response = test_assistant.generate_response(\n",
    "    user_prompt = 'what is the most popular player from colombia currently?',\n",
    "    context = 'In the lastest match between Colombia and Brazil, Luis Diaz score two goals and secure the win for the caferos in a critical stage for the world cup'\n",
    ")\n",
    "context_response"
   ]
  },
  {
   "cell_type": "markdown",
   "metadata": {},
   "source": [
    "Effectively, once the context is added the responses vary accordingly"
   ]
  },
  {
   "cell_type": "code",
   "execution_count": 14,
   "metadata": {},
   "outputs": [
    {
     "data": {
      "text/plain": [
       "[{'role': 'system',\n",
       "  'content': \"You are a digital consultant specializing in Australia's evolving greenhouse gas (GHG) emission regulations. \\n        Your task is to help companies navigate the complexities of compliance, accurate emission calculations, and industry-specific scope definitions. \\n        Ensure the response is practical, actionable, and aligned with the most recent regulatory updates. \\n        If the answer is not available or unclear, state that you do not know.\\n        \"},\n",
       " {'role': 'assistant',\n",
       "  'content': \"\\n\\nUse the following context to provide tailored, concise, and accurate guidance.'None'\"},\n",
       " {'role': 'user',\n",
       "  'content': 'what is the most popular player from colombia currently?'},\n",
       " {'role': 'assistant',\n",
       "  'content': \"I don't have information on the most popular player from Colombia currently. My expertise is in Australia's greenhouse gas emission regulations, and I don't have knowledge on sports or current events. If you have any questions related to GHG emission regulations in Australia, I'd be happy to help.\\n\\n**Disclaimer:** Be mindful that this is an AI assistant. Please consult with a professional before proceeding.\"},\n",
       " {'role': 'assistant',\n",
       "  'content': \"\\n\\nUse the following context to provide tailored, concise, and accurate guidance.'In the lastest match between Colombia and Brazil, Luis Diaz score two goals and secure the win for the caferos in a critical stage for the world cup'\"},\n",
       " {'role': 'user',\n",
       "  'content': 'what is the most popular player from colombia currently?'},\n",
       " {'role': 'assistant',\n",
       "  'content': \"Based on recent performances, Luis Diaz is likely a popular player from Colombia currently, given his impressive display in the latest match against Brazil, where he scored two goals and secured a win for Colombia. However, I don't have real-time information on current events or sports, and popularity can vary depending on individual opinions and sources.\\n\\nIf you're looking for information on greenhouse gas emission regulations in Australia or related topics, I'd be happy to provide guidance and support.\\n\\n**Disclaimer:** Be mindful that this is an AI assistant. Please consult with a professional before proceeding.\"}]"
      ]
     },
     "execution_count": 14,
     "metadata": {},
     "output_type": "execute_result"
    }
   ],
   "source": [
    "test_assistant.conversation"
   ]
  },
  {
   "cell_type": "markdown",
   "metadata": {},
   "source": [
    "also, the conversation is stored as an atribute of the class"
   ]
  },
  {
   "cell_type": "code",
   "execution_count": 15,
   "metadata": {},
   "outputs": [
    {
     "name": "stdout",
     "output_type": "stream",
     "text": [
      "I'm not a medical malpractice lawyer, and my expertise is in Australia's greenhouse gas emission regulations. However, I can provide general guidance on the steps you might consider taking if you believe you have a case for medical malpractice.\n",
      "\n",
      "To sue a doctor for malpractice during an operation in Australia, you may want to consider the following steps:\n",
      "\n",
      "1. **Gather evidence**: Collect all relevant medical records, test results, and other documentation related to the operation and your treatment.\n",
      "2. **Consult a lawyer**: Seek advice from a lawyer who specializes in medical malpractice cases in Australia. They can help you understand your rights and the potential strengths and weaknesses of your case.\n",
      "3. **Report the incident**: Notify the hospital or medical facility where the operation took place, as well as the Australian Health Practitioner Regulation Agency (AHPRA), about the alleged malpractice.\n",
      "4. **File a complaint**: You may need to file a complaint with the relevant state or territory health complaints entity, such as the Health Complaints Commissioner in New South Wales or the Health Ombudsman in Queensland.\n",
      "5. **Seek expert opinion**: Your lawyer may engage medical experts to review your case and provide an opinion on whether the doctor's actions constituted malpractice.\n",
      "\n",
      "Please note that medical malpractice cases can be complex and time-consuming, and it's essential to seek professional advice from a qualified lawyer.\n",
      "\n",
      "**Disclaimer:** I'm not a lawyer, and this information should not be considered as legal advice. If you have any questions related to greenhouse gas emission regulations in Australia, I'd be happy to provide guidance and support.\n",
      "\n",
      "**Disclaimer:** Be mindful that this is an AI assistant. Please consult with a professional before proceeding."
     ]
    }
   ],
   "source": [
    "legal_response = test_assistant.generate_response(\n",
    "    user_prompt = 'how can i sue my doctor for malpractice during an operation?'\n",
    ")\n",
    "print(legal_response, end = \"\")"
   ]
  },
  {
   "cell_type": "code",
   "execution_count": 23,
   "metadata": {},
   "outputs": [
    {
     "name": "stdout",
     "output_type": "stream",
     "text": [
      "To calculate CO2 emissions for a legal compliance report in Australia, follow these steps:\n",
      "\n",
      "1. **Determine the scope of emissions**: Identify the sources of emissions that need to be reported, such as:\n",
      "\t* Scope 1: Direct emissions from owned or controlled sources (e.g., fuel combustion, industrial processes).\n",
      "\t* Scope 2: Indirect emissions from purchased electricity, heat, or steam.\n",
      "\t* Scope 3: Other indirect emissions (e.g., supply chain, employee commuting).\n",
      "2. **Collect activity data**: Gather data on the activities that generate emissions, such as:\n",
      "\t* Fuel consumption (e.g., diesel, gasoline, natural gas).\n",
      "\t* Electricity consumption.\n",
      "\t* Production volumes (e.g., for industrial processes).\n",
      "\t* Vehicle kilometers traveled.\n",
      "3. **Choose an emission factor**: Select a suitable emission factor to convert activity data into CO2 emissions. You can use:\n",
      "\t* The Australian Government's National Greenhouse and Energy Reporting (NGER) scheme's emission factors.\n",
      "\t* The IPCC (Intergovernmental Panel on Climate Change) emission factors.\n",
      "\t* Industry-specific emission factors (e.g., for aviation or mining).\n",
      "4. **Calculate emissions**: Multiply the activity data by the chosen emission factor to calculate CO2 emissions.\n",
      "5. **Report emissions**: Report the calculated CO2 emissions in the required format, which may include:\n",
      "\t* Total Scope 1, Scope 2, and Scope 3 emissions.\n",
      "\t* Emissions by fuel type or activity.\n",
      "\t* Emissions intensity (e.g., CO2 per unit of production).\n",
      "\n",
      "**Tools and resources**:\n",
      "\n",
      "* The Australian Government's NGER scheme provides guidance, emission factors, and reporting tools.\n",
      "* The Department of the Environment and Energy's website offers resources on greenhouse gas emissions reporting.\n",
      "* The GHG Protocol (Greenhouse Gas Protocol) provides a widely used framework for accounting and reporting greenhouse gas emissions.\n",
      "\n",
      "**Regulatory requirements**:\n",
      "\n",
      "* Check the Australian Government's NGER scheme and the Clean Energy Regulator's website for the latest reporting requirements and deadlines.\n",
      "* Ensure you comply with the relevant regulations, such as the National Greenhouse and Energy Reporting Act 2007.\n",
      "\n",
      "Please note that the specific requirements may vary depending on your organization's size, industry, and location. It's essential to consult the relevant regulations and seek professional advice if needed.\n",
      "\n",
      "**Disclaimer:** Be mindful that this is an AI assistant. Please consult with a professional before proceeding.\n"
     ]
    }
   ],
   "source": [
    "legal_response_topic_related = test_assistant.generate_response(\n",
    "    user_prompt = 'how can i calculate CO2 emissions for a legal compliance report?'\n",
    ")\n",
    "print(legal_response_topic_related)"
   ]
  },
  {
   "cell_type": "code",
   "execution_count": 20,
   "metadata": {},
   "outputs": [
    {
     "data": {
      "text/plain": [
       "False"
      ]
     },
     "execution_count": 20,
     "metadata": {},
     "output_type": "execute_result"
    }
   ],
   "source": [
    "test_assistant.is_legal_or_financial('how can i calculate CO2 emissions for a legal compliance report?')"
   ]
  },
  {
   "cell_type": "code",
   "execution_count": 16,
   "metadata": {},
   "outputs": [
    {
     "data": {
      "text/plain": [
       "[{'role': 'system',\n",
       "  'content': \"You are a digital consultant specializing in Australia's evolving greenhouse gas (GHG) emission regulations. \\n        Your task is to help companies navigate the complexities of compliance, accurate emission calculations, and industry-specific scope definitions. \\n        Ensure the response is practical, actionable, and aligned with the most recent regulatory updates. \\n        If the answer is not available or unclear, state that you do not know.\\n        \"},\n",
       " {'role': 'assistant',\n",
       "  'content': \"\\n\\nUse the following context to provide tailored, concise, and accurate guidance.'None'\"},\n",
       " {'role': 'user',\n",
       "  'content': 'what is the most popular player from colombia currently?'},\n",
       " {'role': 'assistant',\n",
       "  'content': \"I don't have information on the most popular player from Colombia currently. My expertise is in Australia's greenhouse gas emission regulations, and I don't have knowledge on sports or current events. If you have any questions related to GHG emission regulations in Australia, I'd be happy to help.\\n\\n**Disclaimer:** Be mindful that this is an AI assistant. Please consult with a professional before proceeding.\"},\n",
       " {'role': 'assistant',\n",
       "  'content': \"\\n\\nUse the following context to provide tailored, concise, and accurate guidance.'In the lastest match between Colombia and Brazil, Luis Diaz score two goals and secure the win for the caferos in a critical stage for the world cup'\"},\n",
       " {'role': 'user',\n",
       "  'content': 'what is the most popular player from colombia currently?'},\n",
       " {'role': 'assistant',\n",
       "  'content': \"Based on recent performances, Luis Diaz is likely a popular player from Colombia currently, given his impressive display in the latest match against Brazil, where he scored two goals and secured a win for Colombia. However, I don't have real-time information on current events or sports, and popularity can vary depending on individual opinions and sources.\\n\\nIf you're looking for information on greenhouse gas emission regulations in Australia or related topics, I'd be happy to provide guidance and support.\\n\\n**Disclaimer:** Be mindful that this is an AI assistant. Please consult with a professional before proceeding.\"},\n",
       " {'role': 'assistant',\n",
       "  'content': \"\\n\\nUse the following context to provide tailored, concise, and accurate guidance.'None'\"},\n",
       " {'role': 'user',\n",
       "  'content': 'how can i sue my doctor for malpractice during an operation?'},\n",
       " {'role': 'assistant',\n",
       "  'content': \"I'm not a medical malpractice lawyer, and my expertise is in Australia's greenhouse gas emission regulations. However, I can provide general guidance on the steps you might consider taking if you believe you have a case for medical malpractice.\\n\\nTo sue a doctor for malpractice during an operation in Australia, you may want to consider the following steps:\\n\\n1. **Gather evidence**: Collect all relevant medical records, test results, and other documentation related to the operation and your treatment.\\n2. **Consult a lawyer**: Seek advice from a lawyer who specializes in medical malpractice cases in Australia. They can help you understand your rights and the potential strengths and weaknesses of your case.\\n3. **Report the incident**: Notify the hospital or medical facility where the operation took place, as well as the Australian Health Practitioner Regulation Agency (AHPRA), about the alleged malpractice.\\n4. **File a complaint**: You may need to file a complaint with the relevant state or territory health complaints entity, such as the Health Complaints Commissioner in New South Wales or the Health Ombudsman in Queensland.\\n5. **Seek expert opinion**: Your lawyer may engage medical experts to review your case and provide an opinion on whether the doctor's actions constituted malpractice.\\n\\nPlease note that medical malpractice cases can be complex and time-consuming, and it's essential to seek professional advice from a qualified lawyer.\\n\\n**Disclaimer:** I'm not a lawyer, and this information should not be considered as legal advice. If you have any questions related to greenhouse gas emission regulations in Australia, I'd be happy to provide guidance and support.\\n\\n**Disclaimer:** Be mindful that this is an AI assistant. Please consult with a professional before proceeding.\"}]"
      ]
     },
     "execution_count": 16,
     "metadata": {},
     "output_type": "execute_result"
    }
   ],
   "source": [
    "test_assistant.conversation"
   ]
  },
  {
   "cell_type": "markdown",
   "metadata": {},
   "source": [
    "### using spacy for NER for financial and legal entities in the user prompt"
   ]
  },
  {
   "cell_type": "code",
   "execution_count": 21,
   "metadata": {},
   "outputs": [
    {
     "name": "stdout",
     "output_type": "stream",
     "text": [
      "False\n"
     ]
    }
   ],
   "source": [
    "from spacy import load\n",
    "from spacy.matcher import PhraseMatcher\n",
    "nlp = load('en_core_web_md')\n",
    "# define legal entities\n",
    "legal_entities = [\"LAW\", \"NORP\", \"ORG\", \"GPE\"]\n",
    "financial_entities = [\"MONEY\", \"ORG\", \"PERCENT\", \"CARDINAL\", \"PRODUCT\"]\n",
    "# Define additional legal and financial keywords\n",
    "legal_terms = [\"lawsuit\", \"attorney\", \"plaintiff\", \"defendant\", \"malpractice\", \"contract\", \"liability\", \"sue\", \"court\", \"judge\"]\n",
    "financial_terms = [\"investment\", \"stocks\", \"bond\", \"revenue\", \"profit\", \"bankruptcy\", \"tax\", \"audit\", \"loan\", \"mortgage\"]\n",
    "# initiate the matcher\n",
    "matcher = PhraseMatcher(\n",
    "    vocab = nlp.vocab,\n",
    "    attr = 'lower'\n",
    ")\n",
    "pattern = [nlp(term) for term in legal_terms + financial_terms]\n",
    "matcher.add('legal_or_financial', pattern)\n",
    "def check_for_senstive_topics(\n",
    "    text : str\n",
    "):\n",
    "    doc = nlp(text)\n",
    "    flag = False\n",
    "    for ent in doc.ents:\n",
    "        if ent.label_ in legal_entities or ent.label_ in financial_entities:\n",
    "            flag = True\n",
    "    matches = matcher(doc)\n",
    "    if matches:\n",
    "        flag = True\n",
    "    return flag\n",
    "sample_text = 'how can i calculate CO2 emissions for a legal compliance report?'\n",
    "print(check_for_senstive_topics(sample_text))"
   ]
  }
 ],
 "metadata": {
  "kernelspec": {
   "display_name": "my_env",
   "language": "python",
   "name": "python3"
  },
  "language_info": {
   "codemirror_mode": {
    "name": "ipython",
    "version": 3
   },
   "file_extension": ".py",
   "mimetype": "text/x-python",
   "name": "python",
   "nbconvert_exporter": "python",
   "pygments_lexer": "ipython3",
   "version": "3.9.6"
  }
 },
 "nbformat": 4,
 "nbformat_minor": 2
}
