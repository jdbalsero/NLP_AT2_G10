{
 "cells": [
  {
   "cell_type": "code",
   "execution_count": 1,
   "id": "57decfc6",
   "metadata": {},
   "outputs": [
    {
     "data": {
      "text/plain": [
       "[Collection(name=ghg_collection)]"
      ]
     },
     "execution_count": 1,
     "metadata": {},
     "output_type": "execute_result"
    }
   ],
   "source": [
    "import chromadb\n",
    "import pandas as pd\n",
    "\n",
    "# Connect to your ChromaDB host\n",
    "client = chromadb.HttpClient(host=\"170.64.231.135\", port=8000)\n",
    "\n",
    "client.list_collections()"
   ]
  },
  {
   "cell_type": "code",
   "execution_count": 3,
   "id": "57d299f2",
   "metadata": {},
   "outputs": [
    {
     "name": "stdout",
     "output_type": "stream",
     "text": [
      "✅ Exported to ghg_chunks_export.csv\n"
     ]
    }
   ],
   "source": [
    "\n",
    "collection = client.get_collection(name=\"ghg_collection\")\n",
    "\n",
    "# Fetch all documents (adjust limit if needed)\n",
    "results = collection.get(include=[\"documents\", \"metadatas\", \"embeddings\"], limit=10000)\n",
    "\n",
    "# Convert to DataFrame\n",
    "df = pd.DataFrame({\n",
    "    \"document\": results[\"documents\"],\n",
    "    \"metadata\": results[\"metadatas\"],\n",
    "    \"embedding\": results[\"embeddings\"]\n",
    "})\n",
    "\n",
    "# Save to CSV\n",
    "df.to_csv(\"ghg_chunks_export.csv\", index=False)\n",
    "\n",
    "print(\"✅ Exported to ghg_chunks_export.csv\")"
   ]
  },
  {
   "cell_type": "code",
   "execution_count": 4,
   "id": "6b6f413c",
   "metadata": {},
   "outputs": [
    {
     "data": {
      "text/html": [
       "<div>\n",
       "<style scoped>\n",
       "    .dataframe tbody tr th:only-of-type {\n",
       "        vertical-align: middle;\n",
       "    }\n",
       "\n",
       "    .dataframe tbody tr th {\n",
       "        vertical-align: top;\n",
       "    }\n",
       "\n",
       "    .dataframe thead th {\n",
       "        text-align: right;\n",
       "    }\n",
       "</style>\n",
       "<table border=\"1\" class=\"dataframe\">\n",
       "  <thead>\n",
       "    <tr style=\"text-align: right;\">\n",
       "      <th></th>\n",
       "      <th>document</th>\n",
       "      <th>metadata</th>\n",
       "      <th>embedding</th>\n",
       "    </tr>\n",
       "  </thead>\n",
       "  <tbody>\n",
       "  </tbody>\n",
       "</table>\n",
       "</div>"
      ],
      "text/plain": [
       "Empty DataFrame\n",
       "Columns: [document, metadata, embedding]\n",
       "Index: []"
      ]
     },
     "execution_count": 4,
     "metadata": {},
     "output_type": "execute_result"
    }
   ],
   "source": [
    "import pandas as pd\n",
    "chunk_text = pd.read_csv(\"ghg_chunks_export.csv\")\n",
    "\n",
    "\n",
    "chunk_text.head()"
   ]
  },
  {
   "cell_type": "code",
   "execution_count": 5,
   "id": "51f485c0",
   "metadata": {},
   "outputs": [
    {
     "name": "stdout",
     "output_type": "stream",
     "text": [
      "🧠 Generated Q&A Pairs:\n",
      "\n",
      "Q1: What is the primary goal of the Paris Agreement, and how does it relate to companies' GHG emissions reporting?\n",
      "A1: The Paris Agreement aims to limit global warming to well below 2°C and pursue efforts to limit it to 1.5°C above pre-industrial levels. Companies play a crucial role in achieving this goal by reporting their GHG emissions transparently and taking actions to reduce them.\n",
      "\n",
      "Q2: Which international climate reporting framework is widely adopted by companies, and what are its key components?\n",
      "A2: The Greenhouse Gas Protocol (GHGP) is the most widely used international framework for GHG emissions reporting. Its key components include the Corporate Standard, which outlines requirements for scope 1, 2, and 3 emissions reporting, and the Product Standard, which provides guidelines for product life cycle assessment.\n",
      "\n",
      "Q3: What is the significance of scope 1, 2, and 3 emissions in GHG reporting, and how do companies typically categorize their emissions?\n",
      "A3: Scope 1 emissions come from direct operations, scope 2 from purchased energy, and scope 3 from indirect sources in the value chain. Companies typically categorize their emissions using these scopes to identify areas for improvement and reduction opportunities.\n",
      "\n",
      "Q4: In Australia, what is the primary climate reporting framework for companies, and what are the key requirements?\n",
      "A4: The Australian Securities and Investments Commission (ASIC) requires publicly listed companies to disclose climate-related risks and opportunities under the Task Force on Climate-related Financial Disclosures (TCFD) framework. The framework consists of four pillars: governance, strategy, risk management, and metrics and targets.\n",
      "\n",
      "Q5: What are the challenges companies face in implementing climate reporting and reduction strategies, and how can they overcome them?\n",
      "A5: Common challenges include data quality issues, stakeholder pressure, and integrating climate considerations into business strategy. Companies can overcome these challenges by engaging stakeholders, investing in data management systems, and integrating climate goals into their overall business strategy.\n",
      "\n",
      "Q6: How can companies effectively engage stakeholders, including investors and customers, on climate-related issues and reporting?\n",
      "A6: Companies can engage stakeholders through regular reporting, transparent communication, and active participation in industry initiatives and forums. This helps build trust, manages risks, and identifies opportunities for innovation and growth.\n",
      "\n",
      "Q7: What role do science-based targets play in a company's climate strategy, and how can they be effectively set and implemented?\n",
      "A7: Science-based targets are emissions reduction goals aligned with the Paris Agreement's 2°C or 1.5°C targets. Companies can set and implement science-based targets by conducting a thorough GHG inventory, engaging stakeholders, and integrating targets into their overall business strategy.\n",
      "\n",
      "Q8: How can companies ensure the accuracy and consistency of their GHG emissions data, and what are the consequences of inaccurate reporting?\n",
      "A8: Companies can ensure accuracy and consistency by using verifiable data, adhering to reporting frameworks, and engaging third-party verifiers. Inaccurate reporting can lead to reputational damage, regulatory penalties, and missed opportunities for cost savings and innovation.\n"
     ]
    }
   ],
   "source": [
    "from groq import Client\n",
    "import os\n",
    "\n",
    "# Set API key\n",
    "os.environ[\"GROQ_API_KEY\"] = \"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\"\n",
    "groq_client = Client(api_key=os.getenv(\"GROQ_API_KEY\"))\n",
    "\n",
    "# Build context from all chunks (filtered to stay under 4000 tokens)\n",
    "chunk_column = \"document\" if \"document\" in chunk_text.columns else chunk_text.columns[0]\n",
    "chunks = chunk_text[chunk_column].dropna().astype(str).tolist()\n",
    "\n",
    "# Keep appending chunks until reaching character limit (~16,000 chars = ~4k tokens)\n",
    "max_chars = 16000\n",
    "selected_chunks = []\n",
    "current_len = 0\n",
    "\n",
    "for c in chunks:\n",
    "    if current_len + len(c) > max_chars:\n",
    "        break\n",
    "    selected_chunks.append(c)\n",
    "    current_len += len(c)\n",
    "\n",
    "filtered_context = \"\\n---\\n\".join(selected_chunks)\n",
    "\n",
    "# Prompt\n",
    "prompt = f\"\"\"\n",
    "You are a GHG emissions consultant and expert in international and Australian climate reporting frameworks.\n",
    "\n",
    "Using the full context below, generate a list of **question and answer (Q&A) pairs** that summarize key insights, regulatory obligations, and challenges for companies.\n",
    "\n",
    "Context:\n",
    "{filtered_context}\n",
    "\n",
    "Format the output like this:\n",
    "Q1: ...\n",
    "A1: ...\n",
    "Q2: ...\n",
    "A2: ...\n",
    "(...continue...)\n",
    "\n",
    "Only include the question–answer pairs in your response.\n",
    "\n",
    "Begin:\n",
    "\"\"\"\n",
    "\n",
    "# Query Groq\n",
    "chat_completion = groq_client.chat.completions.create(\n",
    "    model=\"llama3-70b-8192\",\n",
    "    messages=[\n",
    "        {\"role\": \"system\", \"content\": \"You are a knowledgeable climate consultant generating clear and accurate Q&A pairs.\"},\n",
    "        {\"role\": \"user\", \"content\": prompt}\n",
    "    ]\n",
    ")\n",
    "\n",
    "# Show result\n",
    "response = chat_completion.choices[0].message.content\n",
    "print(\"🧠 Generated Q&A Pairs:\\n\")\n",
    "print(response)"
   ]
  },
  {
   "cell_type": "code",
   "execution_count": null,
   "id": "eb5115db",
   "metadata": {},
   "outputs": [],
   "source": []
  }
 ],
 "metadata": {
  "kernelspec": {
   "display_name": ".venv",
   "language": "python",
   "name": "python3"
  },
  "language_info": {
   "codemirror_mode": {
    "name": "ipython",
    "version": 3
   },
   "file_extension": ".py",
   "mimetype": "text/x-python",
   "name": "python",
   "nbconvert_exporter": "python",
   "pygments_lexer": "ipython3",
   "version": "3.11.6"
  }
 },
 "nbformat": 4,
 "nbformat_minor": 5
}
